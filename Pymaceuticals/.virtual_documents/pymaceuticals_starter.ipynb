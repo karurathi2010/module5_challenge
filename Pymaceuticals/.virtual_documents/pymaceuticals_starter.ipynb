


# Dependencies and Setup
import matplotlib.pyplot as plt
import pandas as pd
import scipy.stats as st
import numpy as np
from scipy.stats import linregress


# Study data files
mouse_metadata_path = "data/Mouse_metadata.csv"
study_results_path = "data/Study_results.csv"

# Read the mouse data and the study results
mouse_metadata = pd.read_csv(mouse_metadata_path)
study_results = pd.read_csv(study_results_path)

# Combine the data into a single DataFrame
combined_df=pd.merge(study_results,mouse_metadata,on="Mouse ID",how="left")

# Display the data table for preview
combined_df


# Checking the number of mice.
combined_df["Mouse ID"].nunique()


# Our data should be uniquely identified by Mouse ID and Timepoint
# Get the duplicate mice by ID number that shows up for Mouse ID and Timepoint. 
dupe_df=combined_df[combined_df.duplicated()]
value=dupe_df["Mouse ID"].unique()
value


# Optional: Get all the data for the duplicate mouse ID. 
opt_df=combined_df[combined_df["Mouse ID"]=='g989']
ind=opt_df.index
opt_df


# Create a clean DataFrame by dropping the duplicate mouse by its ID.
cln_df=combined_df.drop(index=ind)
cln_df


# Checking the number of mice in the clean DataFrame.
cln_df["Mouse ID"].nunique()





# Generate a summary statistics table of mean, median, variance, standard deviation, and SEM of the tumor volume for each regimen

# Use groupby and summary statistical methods to calculate the following properties of each drug regimen: 
mean_df=(cln_df.groupby(cln_df["Drug Regimen"])["Tumor Volume (mm3)"]).mean()
median_df=(cln_df.groupby(cln_df["Drug Regimen"])["Tumor Volume (mm3)"]).median()
var_df=(cln_df.groupby(cln_df["Drug Regimen"])["Tumor Volume (mm3)"]).var()
std_df=(cln_df.groupby(cln_df["Drug Regimen"])["Tumor Volume (mm3)"]).std()
err_df=(cln_df.groupby(cln_df["Drug Regimen"])["Tumor Volume (mm3)"]).sem()

# mean, median, variance, standard deviation, and SEM of the tumor volume. 
# Assemble the resulting series into a single summary DataFrame.
stat_df=pd.concat([mean_df,median_df,var_df,std_df,err_df],axis=1)
stat_df.columns=[["Mean Tumor Volume","Median Tumor Volume","Tumor Volume Variance","Tumor Volume Std. Dev.","Tumor Volume Std. Err."]]
stat_df



# A more advanced method to generate a summary statistics table of mean, median, variance, standard deviation,
# and SEM of the tumor volume for each regimen (only one method is required in the solution)

# Using the aggregation method, produce the same summary statistics in a single line
agg_df=cln_df.groupby(cln_df["Drug Regimen"]).agg({"Tumor Volume (mm3)":['mean','median','var','std','sem']})
agg_df





# Generate a bar plot showing the total number of rows (Mouse ID/Timepoints) for each drug regimen using Pandas.

df=((cln_df.groupby(cln_df["Drug Regimen"])["Timepoint"]).count()).sort_values(ascending=False)
df.plot.bar()
plt.ylabel("# of Observed Mouse Timepoints")
plt.show()


# Generate a bar plot showing the total number of rows (Mouse ID/Timepoints) for each drug regimen using pyplot.
H=((cln_df.groupby(cln_df["Drug Regimen"])["Timepoint"]).count()).sort_values(ascending=False)
x_axis=H.index
plt.xticks(rotation=90, ha='right')
plt.xlabel("Drug Regimen")
plt.ylabel("# of Observed Mouse Timepoints")
plt.bar(x_axis,H,align="center")

plt.show()


# Generate a pie plot showing the distribution of female versus male mice using Pandas
sex=cln_df["Sex"].value_counts()
count=cln_df["Sex"].count()
perc_sex_df=round(sex/count*100)
perc_sex_df.plot.pie(labels=perc_sex_df.index, autopct='%.1f%%')
plt.ylabel("Sex")
plt.show()


# Generate a pie plot showing the distribution of female versus male mice using pyplot
sex=cln_df["Sex"].value_counts()
count=cln_df["Sex"].count()
perc_sex_df=round(sex/count*100)
size=perc_sex_df
label=perc_sex_df.index
plt.pie(perc_sex_df,labels=label,autopct='%.1f%%')
plt.ylabel("Sex")
plt.show()





# Calculate the final tumor volume of each mouse across four of the treatment regimens:  
# Capomulin, Ramicane, Infubinol, and Ceftamin
# Start by getting the last (greatest) timepoint for each mouse

t_df=cln_df.groupby(cln_df["Mouse ID"])["Timepoint"].max().reset_index()

# Merge this group df with the original DataFrame to get the tumor volume at the last timepoint

m_df=pd.merge(cln_df,t_df,on=["Mouse ID","Timepoint"],how="inner")
filter_df=m_df[(m_df["Drug Regimen"]=='Capomulin') | (m_df["Drug Regimen"]=='Ramicane') | (m_df["Drug Regimen"]=='Infubinol') | (m_df["Drug Regimen"]=='Ceftamin')]
filter_df



# Put treatments into a list for for loop (and later for plot labels)
regimen=['Capomulin','Ramicane','Infubinol','Ceftamin']


# Create empty list to fill with tumor vol data (for plotting)


# Calculate the IQR and quantitatively determine if there are any potential outliers. 
for i in regimen:
   
    i_df=m_df[(m_df["Drug Regimen"]==i)]
    i_tumor_df=i_df["Tumor Volume (mm3)"]
    i_quartiles=i_tumor_df.quantile([.25,.50,.75])
    i_lower_quartile=i_quartiles[0.25]
    i_upper_quartile=i_quartiles[0.75]
    i_iqr=i_upper_quartile-i_lower_quartile
    i_lower_bound=i_lower_quartile-(1.5*i_iqr)
    i_upper_bound=i_upper_quartile-(1.5*i_iqr)
    i_outlit_df=(i_tumor_df < i_lower_bound) |(i_tumor_df> i_upper_bound)
    i_out=i_tumor_df.loc[i_outlit_df]
  
    if i=='Capomulin':
        cap_tumor_df=i_out
    elif i=='Ramicane':
        ram_tumor_df=i_out
    elif i=='Infubinol':
        inf_tumor_df=i_out
    elif i=='Ceftamin':
        cef_tumor_df=i_out
    
    print(f"{i}'s potential outliers:{i_out}")
# Locate the rows which contain mice on each drug and get the tumor volumes

# add subset 

# Determine outliers using upper and lower bounds



# Generate a box plot that shows the distrubution of the tumor volume for each treatment group.
location=[1,2,3,4]
plt.boxplot([cap_tumor_df,ram_tumor_df,inf_tumor_df,cef_tumor_df],flierprops = dict(marker = "o", markerfacecolor = "red"))
plt.xticks(location,regimen)
plt.ylabel("Final Tumor Volume (mm3)")
plt.show()






# Generate a line plot of tumor volume vs. time point for a single mouse treated with Capomulin
single_df=cln_df.loc[(cln_df["Mouse ID"]=='l509') & (cln_df["Drug Regimen"]=="Capomulin")]
time=single_df["Timepoint"]
tumor=single_df["Tumor Volume (mm3)"]
plt.plot(time,tumor)
plt.xlabel("Timepoint(days)")
plt.ylabel("Tumor Volume (mm3)")
plt.title("Capomulin treatment of mouse l509")
plt.show()


# Generate a scatter plot of mouse weight vs. the average observed tumor volume for the entire Capomulin regimen
scat_df=cln_df.loc[cln_df["Drug Regimen"]=="Capomulin"]
avg_tumor_df=(scat_df.groupby(scat_df["Mouse ID"])["Tumor Volume (mm3)"]).mean()
avg_weight_df=(scat_df.groupby(scat_df["Mouse ID"])["Weight (g)"]).mean()
plt.scatter(avg_weight_df,avg_tumor_df)
plt.xlabel("Weight (g)")
plt.ylabel("Average Tumor Volume (mm3)")
plt.show()





# Calculate the correlation coefficient and a linear regression model 
# for mouse weight and average observed tumor volume for the entire Capomulin regimen
correlation=st.pearsonr(avg_weight_df,avg_tumor_df)
print(f"The correlation between mouse weight and the average tumor volume is {round(correlation[0],2)}")
plt.scatter(avg_weight_df,avg_tumor_df)
plt.xlabel("Weight (g)")
plt.ylabel("Average Tumor Volume (mm3)")
x_value=avg_weight_df
y_value=avg_tumor_df
(slope , intercept,rvalue,pvalue,stderr) = linregress(x_value,y_value)
line_value=x_value * slope + intercept
plt.plot(x_value,line_value,"r-")
plt.show()




